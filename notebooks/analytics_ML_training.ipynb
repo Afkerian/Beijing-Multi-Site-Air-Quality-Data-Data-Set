{
 "cells": [
  {
   "attachments": {},
   "cell_type": "markdown",
   "metadata": {},
   "source": [
    "# First Title \n",
    "TODO: Here we need to define a title and subtitle that define our project entirely."
   ]
  },
  {
   "cell_type": "code",
   "execution_count": 5,
   "metadata": {},
   "outputs": [],
   "source": [
    "import pandas as pd "
   ]
  },
  {
   "attachments": {},
   "cell_type": "markdown",
   "metadata": {},
   "source": [
    "## Understanding the data"
   ]
  },
  {
   "cell_type": "code",
   "execution_count": 18,
   "metadata": {},
   "outputs": [
    {
     "name": "stdout",
     "output_type": "stream",
     "text": [
      "\u001b[31m2A2478DC-8517-4490-9FA7-36F9A7A542BE.JPG\u001b[m\u001b[m*\n",
      "PRSA2017_Data_20130301-20170228.zip\n",
      "\u001b[1m\u001b[36mPRSA_Data_20130301-20170228\u001b[m\u001b[m/\n",
      "\u001b[31mdata.csv\u001b[m\u001b[m*\n",
      "\u001b[31mtest.csv\u001b[m\u001b[m*\n"
     ]
    }
   ],
   "source": [
    "%ls ../data/beijing+multi+site+air+quality+data"
   ]
  },
  {
   "cell_type": "code",
   "execution_count": 6,
   "metadata": {},
   "outputs": [
    {
     "data": {
      "text/html": [
       "<div>\n",
       "<style scoped>\n",
       "    .dataframe tbody tr th:only-of-type {\n",
       "        vertical-align: middle;\n",
       "    }\n",
       "\n",
       "    .dataframe tbody tr th {\n",
       "        vertical-align: top;\n",
       "    }\n",
       "\n",
       "    .dataframe thead th {\n",
       "        text-align: right;\n",
       "    }\n",
       "</style>\n",
       "<table border=\"1\" class=\"dataframe\">\n",
       "  <thead>\n",
       "    <tr style=\"text-align: right;\">\n",
       "      <th></th>\n",
       "      <th>Date</th>\n",
       "      <th>Open</th>\n",
       "      <th>High</th>\n",
       "      <th>Low</th>\n",
       "      <th>Close</th>\n",
       "      <th>Adj Close</th>\n",
       "      <th>Volume</th>\n",
       "    </tr>\n",
       "  </thead>\n",
       "  <tbody>\n",
       "    <tr>\n",
       "      <th>0</th>\n",
       "      <td>2018-07-02</td>\n",
       "      <td>183.820007</td>\n",
       "      <td>187.300003</td>\n",
       "      <td>183.419998</td>\n",
       "      <td>187.179993</td>\n",
       "      <td>182.199005</td>\n",
       "      <td>17731300</td>\n",
       "    </tr>\n",
       "    <tr>\n",
       "      <th>1</th>\n",
       "      <td>2018-07-03</td>\n",
       "      <td>187.789993</td>\n",
       "      <td>187.949997</td>\n",
       "      <td>183.539993</td>\n",
       "      <td>183.919998</td>\n",
       "      <td>179.025772</td>\n",
       "      <td>13954800</td>\n",
       "    </tr>\n",
       "    <tr>\n",
       "      <th>2</th>\n",
       "      <td>2018-07-05</td>\n",
       "      <td>185.259995</td>\n",
       "      <td>186.410004</td>\n",
       "      <td>184.279999</td>\n",
       "      <td>185.399994</td>\n",
       "      <td>180.466370</td>\n",
       "      <td>16604200</td>\n",
       "    </tr>\n",
       "    <tr>\n",
       "      <th>3</th>\n",
       "      <td>2018-07-06</td>\n",
       "      <td>185.419998</td>\n",
       "      <td>188.429993</td>\n",
       "      <td>185.199997</td>\n",
       "      <td>187.970001</td>\n",
       "      <td>182.967972</td>\n",
       "      <td>17485200</td>\n",
       "    </tr>\n",
       "    <tr>\n",
       "      <th>4</th>\n",
       "      <td>2018-07-09</td>\n",
       "      <td>189.500000</td>\n",
       "      <td>190.679993</td>\n",
       "      <td>189.300003</td>\n",
       "      <td>190.580002</td>\n",
       "      <td>185.508545</td>\n",
       "      <td>19756600</td>\n",
       "    </tr>\n",
       "  </tbody>\n",
       "</table>\n",
       "</div>"
      ],
      "text/plain": [
       "         Date        Open        High         Low       Close   Adj Close  \\\n",
       "0  2018-07-02  183.820007  187.300003  183.419998  187.179993  182.199005   \n",
       "1  2018-07-03  187.789993  187.949997  183.539993  183.919998  179.025772   \n",
       "2  2018-07-05  185.259995  186.410004  184.279999  185.399994  180.466370   \n",
       "3  2018-07-06  185.419998  188.429993  185.199997  187.970001  182.967972   \n",
       "4  2018-07-09  189.500000  190.679993  189.300003  190.580002  185.508545   \n",
       "\n",
       "     Volume  \n",
       "0  17731300  \n",
       "1  13954800  \n",
       "2  16604200  \n",
       "3  17485200  \n",
       "4  19756600  "
      ]
     },
     "execution_count": 6,
     "metadata": {},
     "output_type": "execute_result"
    }
   ],
   "source": [
    "df = pd.read_csv(\"../data/beijing+multi+site+air+quality+data/data.csv\")\n",
    "df.head()"
   ]
  },
  {
   "cell_type": "code",
   "execution_count": 7,
   "metadata": {},
   "outputs": [
    {
     "data": {
      "text/plain": [
       "(503, 7)"
      ]
     },
     "execution_count": 7,
     "metadata": {},
     "output_type": "execute_result"
    }
   ],
   "source": [
    "df.shape"
   ]
  },
  {
   "cell_type": "code",
   "execution_count": 8,
   "metadata": {},
   "outputs": [
    {
     "data": {
      "text/html": [
       "<div>\n",
       "<style scoped>\n",
       "    .dataframe tbody tr th:only-of-type {\n",
       "        vertical-align: middle;\n",
       "    }\n",
       "\n",
       "    .dataframe tbody tr th {\n",
       "        vertical-align: top;\n",
       "    }\n",
       "\n",
       "    .dataframe thead th {\n",
       "        text-align: right;\n",
       "    }\n",
       "</style>\n",
       "<table border=\"1\" class=\"dataframe\">\n",
       "  <thead>\n",
       "    <tr style=\"text-align: right;\">\n",
       "      <th></th>\n",
       "      <th>Date</th>\n",
       "      <th>Open</th>\n",
       "      <th>High</th>\n",
       "      <th>Low</th>\n",
       "      <th>Close</th>\n",
       "      <th>Adj Close</th>\n",
       "      <th>Volume</th>\n",
       "    </tr>\n",
       "  </thead>\n",
       "  <tbody>\n",
       "    <tr>\n",
       "      <th>0</th>\n",
       "      <td>2018-07-02</td>\n",
       "      <td>43.060001</td>\n",
       "      <td>45.000000</td>\n",
       "      <td>42.750000</td>\n",
       "      <td>44.980000</td>\n",
       "      <td>44.980000</td>\n",
       "      <td>16703600</td>\n",
       "    </tr>\n",
       "    <tr>\n",
       "      <th>1</th>\n",
       "      <td>2018-07-03</td>\n",
       "      <td>45.360001</td>\n",
       "      <td>45.480000</td>\n",
       "      <td>43.799999</td>\n",
       "      <td>43.889999</td>\n",
       "      <td>43.889999</td>\n",
       "      <td>14237500</td>\n",
       "    </tr>\n",
       "    <tr>\n",
       "      <th>2</th>\n",
       "      <td>2018-07-05</td>\n",
       "      <td>44.070000</td>\n",
       "      <td>45.110001</td>\n",
       "      <td>43.549999</td>\n",
       "      <td>45.060001</td>\n",
       "      <td>45.060001</td>\n",
       "      <td>16172000</td>\n",
       "    </tr>\n",
       "    <tr>\n",
       "      <th>3</th>\n",
       "      <td>2018-07-06</td>\n",
       "      <td>44.910000</td>\n",
       "      <td>46.750000</td>\n",
       "      <td>44.610001</td>\n",
       "      <td>46.650002</td>\n",
       "      <td>46.650002</td>\n",
       "      <td>23740700</td>\n",
       "    </tr>\n",
       "    <tr>\n",
       "      <th>4</th>\n",
       "      <td>2018-07-09</td>\n",
       "      <td>46.740002</td>\n",
       "      <td>46.900002</td>\n",
       "      <td>42.080002</td>\n",
       "      <td>44.139999</td>\n",
       "      <td>44.139999</td>\n",
       "      <td>107582400</td>\n",
       "    </tr>\n",
       "  </tbody>\n",
       "</table>\n",
       "</div>"
      ],
      "text/plain": [
       "         Date       Open       High        Low      Close  Adj Close  \\\n",
       "0  2018-07-02  43.060001  45.000000  42.750000  44.980000  44.980000   \n",
       "1  2018-07-03  45.360001  45.480000  43.799999  43.889999  43.889999   \n",
       "2  2018-07-05  44.070000  45.110001  43.549999  45.060001  45.060001   \n",
       "3  2018-07-06  44.910000  46.750000  44.610001  46.650002  46.650002   \n",
       "4  2018-07-09  46.740002  46.900002  42.080002  44.139999  44.139999   \n",
       "\n",
       "      Volume  \n",
       "0   16703600  \n",
       "1   14237500  \n",
       "2   16172000  \n",
       "3   23740700  \n",
       "4  107582400  "
      ]
     },
     "execution_count": 8,
     "metadata": {},
     "output_type": "execute_result"
    }
   ],
   "source": [
    "df_test = pd.read_csv(\"../data/beijing+multi+site+air+quality+data/test.csv\")\n",
    "df_test.head()"
   ]
  },
  {
   "cell_type": "code",
   "execution_count": 9,
   "metadata": {},
   "outputs": [
    {
     "data": {
      "text/plain": [
       "(503, 7)"
      ]
     },
     "execution_count": 9,
     "metadata": {},
     "output_type": "execute_result"
    }
   ],
   "source": [
    "df.shape"
   ]
  },
  {
   "cell_type": "code",
   "execution_count": 11,
   "metadata": {},
   "outputs": [
    {
     "name": "stdout",
     "output_type": "stream",
     "text": [
      "PRSA_Data_Aotizhongxin_20130301-20170228.csv\n",
      "PRSA_Data_Changping_20130301-20170228.csv\n",
      "PRSA_Data_Dingling_20130301-20170228.csv\n",
      "PRSA_Data_Dongsi_20130301-20170228.csv\n",
      "PRSA_Data_Guanyuan_20130301-20170228.csv\n",
      "PRSA_Data_Gucheng_20130301-20170228.csv\n",
      "PRSA_Data_Huairou_20130301-20170228.csv\n",
      "PRSA_Data_Nongzhanguan_20130301-20170228.csv\n",
      "PRSA_Data_Shunyi_20130301-20170228.csv\n",
      "PRSA_Data_Tiantan_20130301-20170228.csv\n",
      "PRSA_Data_Wanliu_20130301-20170228.csv\n",
      "PRSA_Data_Wanshouxigong_20130301-20170228.csv\n"
     ]
    }
   ],
   "source": [
    "%ls ../data/beijing+multi+site+air+quality+data/PRSA_Data_20130301-20170228"
   ]
  },
  {
   "cell_type": "code",
   "execution_count": 15,
   "metadata": {},
   "outputs": [
    {
     "data": {
      "text/plain": [
       "(35064, 18)"
      ]
     },
     "execution_count": 15,
     "metadata": {},
     "output_type": "execute_result"
    }
   ],
   "source": [
    "df_1 = pd.read_csv(filepath_or_buffer = \"../data/beijing+multi+site+air+quality+data/PRSA_Data_20130301-20170228/PRSA_Data_Aotizhongxin_20130301-20170228.csv\")\n",
    "df_1.shape"
   ]
  }
 ],
 "metadata": {
  "kernelspec": {
   "display_name": "env",
   "language": "python",
   "name": "python3"
  },
  "language_info": {
   "codemirror_mode": {
    "name": "ipython",
    "version": 3
   },
   "file_extension": ".py",
   "mimetype": "text/x-python",
   "name": "python",
   "nbconvert_exporter": "python",
   "pygments_lexer": "ipython3",
   "version": "3.11.4"
  },
  "orig_nbformat": 4
 },
 "nbformat": 4,
 "nbformat_minor": 2
}
